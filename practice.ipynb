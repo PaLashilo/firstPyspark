{
 "cells": [
  {
   "cell_type": "markdown",
   "id": "3091a2f8",
   "metadata": {},
   "source": [
    "# PySpark clustering"
   ]
  },
  {
   "cell_type": "code",
   "execution_count": 107,
   "id": "italic-bennett",
   "metadata": {},
   "outputs": [
    {
     "ename": "ModuleNotFoundError",
     "evalue": "No module named 'src'",
     "output_type": "error",
     "traceback": [
      "\u001b[0;31m---------------------------------------------------------------------------\u001b[0m",
      "\u001b[0;31mModuleNotFoundError\u001b[0m                       Traceback (most recent call last)",
      "\u001b[0;32m<ipython-input-107-21c7c56f4da2>\u001b[0m in \u001b[0;36m<module>\u001b[0;34m\u001b[0m\n\u001b[1;32m     10\u001b[0m \u001b[0;32mfrom\u001b[0m \u001b[0mpyspark\u001b[0m\u001b[0;34m.\u001b[0m\u001b[0mml\u001b[0m\u001b[0;34m.\u001b[0m\u001b[0mclassification\u001b[0m \u001b[0;32mimport\u001b[0m \u001b[0mLogisticRegression\u001b[0m\u001b[0;34m\u001b[0m\u001b[0;34m\u001b[0m\u001b[0m\n\u001b[1;32m     11\u001b[0m \u001b[0;34m\u001b[0m\u001b[0m\n\u001b[0;32m---> 12\u001b[0;31m \u001b[0;32mfrom\u001b[0m \u001b[0msrc\u001b[0m\u001b[0;34m.\u001b[0m\u001b[0mcustomEncoder\u001b[0m \u001b[0;32mimport\u001b[0m \u001b[0mCustomEncoder\u001b[0m\u001b[0;34m\u001b[0m\u001b[0;34m\u001b[0m\u001b[0m\n\u001b[0m",
      "\u001b[0;31mModuleNotFoundError\u001b[0m: No module named 'src'"
     ]
    }
   ],
   "source": [
    "import matplotlib.pyplot as plt\n",
    "\n",
    "from pyspark.sql import SparkSession\n",
    "from pyspark.sql.functions import isnan, when, col, count, desc, countDistinct\n",
    "from pyspark.sql.types import IntegerType\n",
    "\n",
    "from pyspark.ml import Pipeline\n",
    "from pyspark.ml.feature import OneHotEncoder\n",
    "from pyspark.ml.feature import VectorAssembler\n",
    "from pyspark.ml.classification import LogisticRegression\n",
    "\n",
    "from src.customEncoder import CustomEncoder"
   ]
  },
  {
   "cell_type": "code",
   "execution_count": 19,
   "id": "interim-theology",
   "metadata": {},
   "outputs": [],
   "source": [
    "spark = SparkSession.builder.appName(\"session_new_1\").getOrCreate()"
   ]
  },
  {
   "cell_type": "code",
   "execution_count": 20,
   "id": "brutal-friendship",
   "metadata": {},
   "outputs": [],
   "source": [
    "data = spark.read.csv(\"archive/churn-bigml-80.csv\", header=True, inferSchema=True)\n",
    "\n",
    "# header=True - for reading names of columnes\n",
    "# inferSchema=True - for correct reading columns types"
   ]
  },
  {
   "cell_type": "markdown",
   "id": "df93123b",
   "metadata": {},
   "source": [
    "### Practise"
   ]
  },
  {
   "cell_type": "code",
   "execution_count": 105,
   "id": "383c1ae4",
   "metadata": {},
   "outputs": [
    {
     "data": {
      "text/plain": [
       "pyspark.sql.dataframe.DataFrame"
      ]
     },
     "execution_count": 105,
     "metadata": {},
     "output_type": "execute_result"
    }
   ],
   "source": [
    "type(data)"
   ]
  },
  {
   "cell_type": "code",
   "execution_count": 106,
   "id": "3abe3199",
   "metadata": {},
   "outputs": [
    {
     "data": {
      "text/plain": [
       "[Row(State='KS', Account length=128, Area code=415, International plan='No', Voice mail plan='Yes', Number vmail messages=25, Total day minutes=265.1, Total day calls=110, Total day charge=45.07, Total eve minutes=197.4, Total eve calls=99, Total eve charge=16.78, Total night minutes=244.7, Total night calls=91, Total night charge=11.01, Total intl minutes=10.0, Total intl calls=3, Total intl charge=2.7, Customer service calls=1, Churn=False),\n",
       " Row(State='OH', Account length=107, Area code=415, International plan='No', Voice mail plan='Yes', Number vmail messages=26, Total day minutes=161.6, Total day calls=123, Total day charge=27.47, Total eve minutes=195.5, Total eve calls=103, Total eve charge=16.62, Total night minutes=254.4, Total night calls=103, Total night charge=11.45, Total intl minutes=13.7, Total intl calls=3, Total intl charge=3.7, Customer service calls=1, Churn=False),\n",
       " Row(State='NJ', Account length=137, Area code=415, International plan='No', Voice mail plan='No', Number vmail messages=0, Total day minutes=243.4, Total day calls=114, Total day charge=41.38, Total eve minutes=121.2, Total eve calls=110, Total eve charge=10.3, Total night minutes=162.6, Total night calls=104, Total night charge=7.32, Total intl minutes=12.2, Total intl calls=5, Total intl charge=3.29, Customer service calls=0, Churn=False),\n",
       " Row(State='OH', Account length=84, Area code=408, International plan='Yes', Voice mail plan='No', Number vmail messages=0, Total day minutes=299.4, Total day calls=71, Total day charge=50.9, Total eve minutes=61.9, Total eve calls=88, Total eve charge=5.26, Total night minutes=196.9, Total night calls=89, Total night charge=8.86, Total intl minutes=6.6, Total intl calls=7, Total intl charge=1.78, Customer service calls=2, Churn=False),\n",
       " Row(State='OK', Account length=75, Area code=415, International plan='Yes', Voice mail plan='No', Number vmail messages=0, Total day minutes=166.7, Total day calls=113, Total day charge=28.34, Total eve minutes=148.3, Total eve calls=122, Total eve charge=12.61, Total night minutes=186.9, Total night calls=121, Total night charge=8.41, Total intl minutes=10.1, Total intl calls=3, Total intl charge=2.73, Customer service calls=3, Churn=False)]"
      ]
     },
     "execution_count": 106,
     "metadata": {},
     "output_type": "execute_result"
    }
   ],
   "source": [
    "data.head(5)"
   ]
  },
  {
   "cell_type": "markdown",
   "id": "3de54917",
   "metadata": {},
   "source": [
    "Selecting"
   ]
  },
  {
   "cell_type": "code",
   "execution_count": 23,
   "id": "9caf9af9",
   "metadata": {},
   "outputs": [
    {
     "name": "stdout",
     "output_type": "stream",
     "text": [
      "+-----+\n",
      "|State|\n",
      "+-----+\n",
      "|   KS|\n",
      "|   OH|\n",
      "|   NJ|\n",
      "+-----+\n",
      "only showing top 3 rows\n",
      "\n"
     ]
    }
   ],
   "source": [
    "data.select(\"State\").show(3)"
   ]
  },
  {
   "cell_type": "code",
   "execution_count": 24,
   "id": "444c273e",
   "metadata": {},
   "outputs": [
    {
     "name": "stdout",
     "output_type": "stream",
     "text": [
      "+-----+---------+\n",
      "|State|Area code|\n",
      "+-----+---------+\n",
      "|   KS|      415|\n",
      "|   OH|      415|\n",
      "|   NJ|      415|\n",
      "+-----+---------+\n",
      "only showing top 3 rows\n",
      "\n"
     ]
    }
   ],
   "source": [
    "data.select([\"State\", \"Area code\"]).show(3)"
   ]
  },
  {
   "cell_type": "markdown",
   "id": "44a816e0",
   "metadata": {},
   "source": [
    "Dtypes"
   ]
  },
  {
   "cell_type": "code",
   "execution_count": 25,
   "id": "384ae03f",
   "metadata": {},
   "outputs": [
    {
     "name": "stdout",
     "output_type": "stream",
     "text": [
      "[('State', 'string'), ('Account length', 'int'), ('Area code', 'int'), ('International plan', 'string'), ('Voice mail plan', 'string'), ('Number vmail messages', 'int'), ('Total day minutes', 'double'), ('Total day calls', 'int'), ('Total day charge', 'double'), ('Total eve minutes', 'double'), ('Total eve calls', 'int'), ('Total eve charge', 'double'), ('Total night minutes', 'double'), ('Total night calls', 'int'), ('Total night charge', 'double'), ('Total intl minutes', 'double'), ('Total intl calls', 'int'), ('Total intl charge', 'double'), ('Customer service calls', 'int'), ('Churn', 'boolean')]\n"
     ]
    }
   ],
   "source": [
    "print(data.dtypes)"
   ]
  },
  {
   "cell_type": "code",
   "execution_count": 26,
   "id": "dd6af601",
   "metadata": {},
   "outputs": [
    {
     "name": "stdout",
     "output_type": "stream",
     "text": [
      "+-------+-----+------------------+------------------+------------------+---------------+---------------------+------------------+------------------+------------------+------------------+------------------+------------------+-------------------+------------------+------------------+------------------+------------------+------------------+----------------------+\n",
      "|summary|State|    Account length|         Area code|International plan|Voice mail plan|Number vmail messages| Total day minutes|   Total day calls|  Total day charge| Total eve minutes|   Total eve calls|  Total eve charge|Total night minutes| Total night calls|Total night charge|Total intl minutes|  Total intl calls| Total intl charge|Customer service calls|\n",
      "+-------+-----+------------------+------------------+------------------+---------------+---------------------+------------------+------------------+------------------+------------------+------------------+------------------+-------------------+------------------+------------------+------------------+------------------+------------------+----------------------+\n",
      "|  count| 2666|              2666|              2666|              2666|           2666|                 2666|              2666|              2666|              2666|              2666|              2666|              2666|               2666|              2666|              2666|              2666|              2666|              2666|                  2666|\n",
      "|   mean| null|100.62040510127532|437.43885971492875|              null|           null|    8.021755438859715|179.48162040510135|100.31020255063765|30.512404351087813|200.38615903976006|100.02363090772693|17.033072018004518| 201.16894223555968|100.10615153788447| 9.052689422355604| 10.23702175543886| 4.467366841710428| 2.764489872468112|    1.5626406601650413|\n",
      "| stddev| null| 39.56397365334985|42.521018019427174|              null|           null|    13.61227701829193| 54.21035022086982|19.988162186059512| 9.215732907163497| 50.95151511764598| 20.16144511531889| 4.330864176799864| 50.780323368725206|19.418458551101697|2.2851195129157564|2.7883485770512566|2.4561949030129466|0.7528120531228477|    1.3112357589949093|\n",
      "|    min|   AK|                 1|               408|                No|             No|                    0|               0.0|                 0|               0.0|               0.0|                 0|               0.0|               43.7|                33|              1.97|               0.0|                 0|               0.0|                     0|\n",
      "|    max|   WY|               243|               510|               Yes|            Yes|                   50|             350.8|               160|             59.64|             363.7|               170|             30.91|              395.0|               166|             17.77|              20.0|                20|               5.4|                     9|\n",
      "+-------+-----+------------------+------------------+------------------+---------------+---------------------+------------------+------------------+------------------+------------------+------------------+------------------+-------------------+------------------+------------------+------------------+------------------+------------------+----------------------+\n",
      "\n"
     ]
    }
   ],
   "source": [
    "data.describe().show()"
   ]
  },
  {
   "cell_type": "markdown",
   "id": "04b0dae4",
   "metadata": {},
   "source": [
    "Add column"
   ]
  },
  {
   "cell_type": "code",
   "execution_count": 27,
   "id": "54bd0c4d",
   "metadata": {},
   "outputs": [
    {
     "name": "stdout",
     "output_type": "stream",
     "text": [
      "+-----+--------------+---------+------------------+---------------+---------------------+-----------------+---------------+----------------+-----------------+---------------+----------------+-------------------+-----------------+------------------+------------------+----------------+-----------------+----------------------+-----+-------------+\n",
      "|State|Account length|Area code|International plan|Voice mail plan|Number vmail messages|Total day minutes|Total day calls|Total day charge|Total eve minutes|Total eve calls|Total eve charge|Total night minutes|Total night calls|Total night charge|Total intl minutes|Total intl calls|Total intl charge|Customer service calls|Churn|New Area code|\n",
      "+-----+--------------+---------+------------------+---------------+---------------------+-----------------+---------------+----------------+-----------------+---------------+----------------+-------------------+-----------------+------------------+------------------+----------------+-----------------+----------------------+-----+-------------+\n",
      "|   KS|           128|      415|                No|            Yes|                   25|            265.1|            110|           45.07|            197.4|             99|           16.78|              244.7|               91|             11.01|              10.0|               3|              2.7|                     1|false|          830|\n",
      "|   OH|           107|      415|                No|            Yes|                   26|            161.6|            123|           27.47|            195.5|            103|           16.62|              254.4|              103|             11.45|              13.7|               3|              3.7|                     1|false|          830|\n",
      "|   NJ|           137|      415|                No|             No|                    0|            243.4|            114|           41.38|            121.2|            110|            10.3|              162.6|              104|              7.32|              12.2|               5|             3.29|                     0|false|          830|\n",
      "|   OH|            84|      408|               Yes|             No|                    0|            299.4|             71|            50.9|             61.9|             88|            5.26|              196.9|               89|              8.86|               6.6|               7|             1.78|                     2|false|          816|\n",
      "|   OK|            75|      415|               Yes|             No|                    0|            166.7|            113|           28.34|            148.3|            122|           12.61|              186.9|              121|              8.41|              10.1|               3|             2.73|                     3|false|          830|\n",
      "+-----+--------------+---------+------------------+---------------+---------------------+-----------------+---------------+----------------+-----------------+---------------+----------------+-------------------+-----------------+------------------+------------------+----------------+-----------------+----------------------+-----+-------------+\n",
      "only showing top 5 rows\n",
      "\n"
     ]
    }
   ],
   "source": [
    "data = data.withColumn(\"New Area code\", data[\"Area code\"]*2)\n",
    "data.show(5)"
   ]
  },
  {
   "cell_type": "markdown",
   "id": "f6d8d585",
   "metadata": {},
   "source": [
    "Drop column"
   ]
  },
  {
   "cell_type": "code",
   "execution_count": 28,
   "id": "0a18f4db",
   "metadata": {},
   "outputs": [],
   "source": [
    "data = data.drop(\"New Area code\")"
   ]
  },
  {
   "cell_type": "markdown",
   "id": "e29d90a7",
   "metadata": {},
   "source": [
    "Rename"
   ]
  },
  {
   "cell_type": "code",
   "execution_count": 29,
   "id": "1c0b98bb",
   "metadata": {},
   "outputs": [],
   "source": [
    "data = data.withColumnRenamed(\"Area code\", \"Code of area\")\n",
    "data = data.withColumnRenamed(\"Code of area\", \"Area code\")"
   ]
  },
  {
   "cell_type": "markdown",
   "id": "f1cb4875",
   "metadata": {},
   "source": [
    "Handling missing values"
   ]
  },
  {
   "cell_type": "code",
   "execution_count": 30,
   "id": "663ef13d",
   "metadata": {},
   "outputs": [
    {
     "name": "stdout",
     "output_type": "stream",
     "text": [
      "Количество нановых колонок: 0\n"
     ]
    }
   ],
   "source": [
    "print(f\"Количество нановых колонок:\", data.count()-data.na.drop(how=\"all\").count())"
   ]
  },
  {
   "cell_type": "code",
   "execution_count": 31,
   "id": "2618e152",
   "metadata": {},
   "outputs": [
    {
     "name": "stdout",
     "output_type": "stream",
     "text": [
      "Количество ячеек с пропусками пропусков: 0\n"
     ]
    }
   ],
   "source": [
    "print(f\"Количество ячеек с пропусками пропусков:\", data.count()-data.na.drop(how=\"any\").count())"
   ]
  },
  {
   "cell_type": "code",
   "execution_count": 32,
   "id": "013e12e8",
   "metadata": {},
   "outputs": [
    {
     "name": "stdout",
     "output_type": "stream",
     "text": [
      "+-----+--------------+---------+------------------+---------------+---------------------+-----------------+---------------+----------------+-----------------+---------------+----------------+-------------------+-----------------+------------------+------------------+----------------+-----------------+----------------------+-----+\n",
      "|State|Account length|Area code|International plan|Voice mail plan|Number vmail messages|Total day minutes|Total day calls|Total day charge|Total eve minutes|Total eve calls|Total eve charge|Total night minutes|Total night calls|Total night charge|Total intl minutes|Total intl calls|Total intl charge|Customer service calls|Churn|\n",
      "+-----+--------------+---------+------------------+---------------+---------------------+-----------------+---------------+----------------+-----------------+---------------+----------------+-------------------+-----------------+------------------+------------------+----------------+-----------------+----------------------+-----+\n",
      "|   KS|           128|      415|                No|            Yes|                   25|            265.1|            110|           45.07|            197.4|             99|           16.78|              244.7|               91|             11.01|              10.0|               3|              2.7|                     1|false|\n",
      "|   OH|           107|      415|                No|            Yes|                   26|            161.6|            123|           27.47|            195.5|            103|           16.62|              254.4|              103|             11.45|              13.7|               3|              3.7|                     1|false|\n",
      "|   NJ|           137|      415|                No|             No|                    0|            243.4|            114|           41.38|            121.2|            110|            10.3|              162.6|              104|              7.32|              12.2|               5|             3.29|                     0|false|\n",
      "|   OH|            84|      408|               Yes|             No|                    0|            299.4|             71|            50.9|             61.9|             88|            5.26|              196.9|               89|              8.86|               6.6|               7|             1.78|                     2|false|\n",
      "|   OK|            75|      415|               Yes|             No|                    0|            166.7|            113|           28.34|            148.3|            122|           12.61|              186.9|              121|              8.41|              10.1|               3|             2.73|                     3|false|\n",
      "+-----+--------------+---------+------------------+---------------+---------------------+-----------------+---------------+----------------+-----------------+---------------+----------------+-------------------+-----------------+------------------+------------------+----------------+-----------------+----------------------+-----+\n",
      "only showing top 5 rows\n",
      "\n"
     ]
    }
   ],
   "source": [
    "working_cols = [\"Total day minutes\", \"Total day calls\", \"Total eve minutes\"]\n",
    "data.na.drop(how=\"any\", thresh=2, subset=working_cols).show(5)"
   ]
  },
  {
   "cell_type": "markdown",
   "id": "2498d857",
   "metadata": {},
   "source": [
    "Filling missing values"
   ]
  },
  {
   "cell_type": "code",
   "execution_count": 33,
   "id": "bdee2d42",
   "metadata": {},
   "outputs": [
    {
     "name": "stdout",
     "output_type": "stream",
     "text": [
      "+-----+--------------+---------+------------------+---------------+---------------------+-----------------+---------------+----------------+-----------------+---------------+----------------+-------------------+-----------------+------------------+------------------+----------------+-----------------+----------------------+-----+\n",
      "|State|Account length|Area code|International plan|Voice mail plan|Number vmail messages|Total day minutes|Total day calls|Total day charge|Total eve minutes|Total eve calls|Total eve charge|Total night minutes|Total night calls|Total night charge|Total intl minutes|Total intl calls|Total intl charge|Customer service calls|Churn|\n",
      "+-----+--------------+---------+------------------+---------------+---------------------+-----------------+---------------+----------------+-----------------+---------------+----------------+-------------------+-----------------+------------------+------------------+----------------+-----------------+----------------------+-----+\n",
      "|   KS|           128|      415|                No|            Yes|                   25|            265.1|            110|           45.07|            197.4|             99|           16.78|              244.7|               91|             11.01|              10.0|               3|              2.7|                     1|false|\n",
      "|   OH|           107|      415|                No|            Yes|                   26|            161.6|            123|           27.47|            195.5|            103|           16.62|              254.4|              103|             11.45|              13.7|               3|              3.7|                     1|false|\n",
      "+-----+--------------+---------+------------------+---------------+---------------------+-----------------+---------------+----------------+-----------------+---------------+----------------+-------------------+-----------------+------------------+------------------+----------------+-----------------+----------------------+-----+\n",
      "only showing top 2 rows\n",
      "\n"
     ]
    }
   ],
   "source": [
    "data.na.fill(value=\"Missing value\", subset=\"Area code\").show(2)"
   ]
  },
  {
   "cell_type": "code",
   "execution_count": 34,
   "id": "a7e2ec94",
   "metadata": {},
   "outputs": [],
   "source": [
    "from pyspark.ml.feature import Imputer \n",
    "\n",
    "col_subset = [\"Total day minutes\", \"Number vmail messages\"]\n",
    "imputer = Imputer(\n",
    "    inputCols=col_subset,\n",
    "    outputCols=[f\"{col_name}_imputed\" for col_name in col_subset]\n",
    "    ).setStrategy(\"mean\")"
   ]
  },
  {
   "cell_type": "code",
   "execution_count": 35,
   "id": "969ea548",
   "metadata": {},
   "outputs": [
    {
     "name": "stdout",
     "output_type": "stream",
     "text": [
      "+-----+--------------+---------+------------------+---------------+---------------------+-----------------+---------------+----------------+-----------------+---------------+----------------+-------------------+-----------------+------------------+------------------+----------------+-----------------+----------------------+-----+-------------------------+-----------------------------+\n",
      "|State|Account length|Area code|International plan|Voice mail plan|Number vmail messages|Total day minutes|Total day calls|Total day charge|Total eve minutes|Total eve calls|Total eve charge|Total night minutes|Total night calls|Total night charge|Total intl minutes|Total intl calls|Total intl charge|Customer service calls|Churn|Total day minutes_imputed|Number vmail messages_imputed|\n",
      "+-----+--------------+---------+------------------+---------------+---------------------+-----------------+---------------+----------------+-----------------+---------------+----------------+-------------------+-----------------+------------------+------------------+----------------+-----------------+----------------------+-----+-------------------------+-----------------------------+\n",
      "|   KS|           128|      415|                No|            Yes|                   25|            265.1|            110|           45.07|            197.4|             99|           16.78|              244.7|               91|             11.01|              10.0|               3|              2.7|                     1|false|                    265.1|                           25|\n",
      "|   OH|           107|      415|                No|            Yes|                   26|            161.6|            123|           27.47|            195.5|            103|           16.62|              254.4|              103|             11.45|              13.7|               3|              3.7|                     1|false|                    161.6|                           26|\n",
      "|   NJ|           137|      415|                No|             No|                    0|            243.4|            114|           41.38|            121.2|            110|            10.3|              162.6|              104|              7.32|              12.2|               5|             3.29|                     0|false|                    243.4|                            0|\n",
      "|   OH|            84|      408|               Yes|             No|                    0|            299.4|             71|            50.9|             61.9|             88|            5.26|              196.9|               89|              8.86|               6.6|               7|             1.78|                     2|false|                    299.4|                            0|\n",
      "|   OK|            75|      415|               Yes|             No|                    0|            166.7|            113|           28.34|            148.3|            122|           12.61|              186.9|              121|              8.41|              10.1|               3|             2.73|                     3|false|                    166.7|                            0|\n",
      "+-----+--------------+---------+------------------+---------------+---------------------+-----------------+---------------+----------------+-----------------+---------------+----------------+-------------------+-----------------+------------------+------------------+----------------+-----------------+----------------------+-----+-------------------------+-----------------------------+\n",
      "only showing top 5 rows\n",
      "\n"
     ]
    }
   ],
   "source": [
    "imputer.fit(data).transform(data).show(5)"
   ]
  },
  {
   "cell_type": "markdown",
   "id": "202dbb2f",
   "metadata": {},
   "source": [
    "Filtering"
   ]
  },
  {
   "cell_type": "code",
   "execution_count": 36,
   "id": "f6985c08",
   "metadata": {},
   "outputs": [
    {
     "data": {
      "text/plain": [
       "1619"
      ]
     },
     "execution_count": 36,
     "metadata": {},
     "output_type": "execute_result"
    }
   ],
   "source": [
    "data.filter(~((data['Total intl calls'] < 5) & (data['Total intl calls'] > 2))).select(\"Total intl calls\").count()"
   ]
  },
  {
   "cell_type": "markdown",
   "id": "f7ba19c0",
   "metadata": {},
   "source": [
    "Aggregating and grouping\n"
   ]
  },
  {
   "cell_type": "code",
   "execution_count": 37,
   "id": "246c9714",
   "metadata": {},
   "outputs": [
    {
     "name": "stdout",
     "output_type": "stream",
     "text": [
      "+-----+---------------------+\n",
      "|State|avg(Total intl calls)|\n",
      "+-----+---------------------+\n",
      "|   AZ|    5.288888888888889|\n",
      "|   ND|    5.136363636363637|\n",
      "|   NH|                  5.0|\n",
      "|   WY|    4.924242424242424|\n",
      "|   MS|    4.895833333333333|\n",
      "+-----+---------------------+\n",
      "only showing top 5 rows\n",
      "\n"
     ]
    }
   ],
   "source": [
    "data.groupBy(\"State\").avg(\"Total intl calls\").cache().sort(desc(\"avg(Total intl calls)\")).show(5) "
   ]
  },
  {
   "cell_type": "markdown",
   "id": "e852b8ef",
   "metadata": {},
   "source": [
    "Ml"
   ]
  },
  {
   "cell_type": "code",
   "execution_count": 38,
   "id": "66a0ce1f",
   "metadata": {},
   "outputs": [],
   "source": [
    "cols = ['Account length', 'Area code', 'Number vmail messages', 'Total day minutes', 'Total day calls', 'Total day charge', 'Total eve minutes', 'Total eve calls', 'Total eve charge', 'Total night minutes', 'Total night calls', 'Total night charge', 'Total intl minutes', 'Total intl calls', 'Total intl charge', 'Customer service calls']\n",
    "featureassembler=VectorAssembler(inputCols=cols, outputCol=\"Input\")"
   ]
  },
  {
   "cell_type": "code",
   "execution_count": 39,
   "id": "c7153ca4",
   "metadata": {},
   "outputs": [],
   "source": [
    "output=featureassembler.transform(data)"
   ]
  },
  {
   "cell_type": "code",
   "execution_count": 40,
   "id": "fe42ba0a",
   "metadata": {},
   "outputs": [
    {
     "name": "stdout",
     "output_type": "stream",
     "text": [
      "+-----+--------------+---------+------------------+---------------+---------------------+-----------------+---------------+----------------+-----------------+---------------+----------------+-------------------+-----------------+------------------+------------------+----------------+-----------------+----------------------+-----+--------------------+\n",
      "|State|Account length|Area code|International plan|Voice mail plan|Number vmail messages|Total day minutes|Total day calls|Total day charge|Total eve minutes|Total eve calls|Total eve charge|Total night minutes|Total night calls|Total night charge|Total intl minutes|Total intl calls|Total intl charge|Customer service calls|Churn|               Input|\n",
      "+-----+--------------+---------+------------------+---------------+---------------------+-----------------+---------------+----------------+-----------------+---------------+----------------+-------------------+-----------------+------------------+------------------+----------------+-----------------+----------------------+-----+--------------------+\n",
      "|   KS|           128|      415|                No|            Yes|                   25|            265.1|            110|           45.07|            197.4|             99|           16.78|              244.7|               91|             11.01|              10.0|               3|              2.7|                     1|false|[128.0,415.0,25.0...|\n",
      "|   OH|           107|      415|                No|            Yes|                   26|            161.6|            123|           27.47|            195.5|            103|           16.62|              254.4|              103|             11.45|              13.7|               3|              3.7|                     1|false|[107.0,415.0,26.0...|\n",
      "|   NJ|           137|      415|                No|             No|                    0|            243.4|            114|           41.38|            121.2|            110|            10.3|              162.6|              104|              7.32|              12.2|               5|             3.29|                     0|false|[137.0,415.0,0.0,...|\n",
      "|   OH|            84|      408|               Yes|             No|                    0|            299.4|             71|            50.9|             61.9|             88|            5.26|              196.9|               89|              8.86|               6.6|               7|             1.78|                     2|false|[84.0,408.0,0.0,2...|\n",
      "|   OK|            75|      415|               Yes|             No|                    0|            166.7|            113|           28.34|            148.3|            122|           12.61|              186.9|              121|              8.41|              10.1|               3|             2.73|                     3|false|[75.0,415.0,0.0,1...|\n",
      "+-----+--------------+---------+------------------+---------------+---------------------+-----------------+---------------+----------------+-----------------+---------------+----------------+-------------------+-----------------+------------------+------------------+----------------+-----------------+----------------------+-----+--------------------+\n",
      "only showing top 5 rows\n",
      "\n"
     ]
    }
   ],
   "source": [
    "output.show(5)"
   ]
  },
  {
   "cell_type": "code",
   "execution_count": 41,
   "id": "1b93a49f",
   "metadata": {},
   "outputs": [],
   "source": [
    "final_data=output.select([\"Input\", \"Churn\"])"
   ]
  },
  {
   "cell_type": "code",
   "execution_count": 42,
   "id": "412a565c",
   "metadata": {},
   "outputs": [
    {
     "name": "stdout",
     "output_type": "stream",
     "text": [
      "+--------------------+-----+\n",
      "|               Input|Churn|\n",
      "+--------------------+-----+\n",
      "|[128.0,415.0,25.0...|false|\n",
      "|[107.0,415.0,26.0...|false|\n",
      "|[137.0,415.0,0.0,...|false|\n",
      "|[84.0,408.0,0.0,2...|false|\n",
      "|[75.0,415.0,0.0,1...|false|\n",
      "+--------------------+-----+\n",
      "only showing top 5 rows\n",
      "\n"
     ]
    }
   ],
   "source": [
    "final_data.show(5)"
   ]
  },
  {
   "cell_type": "code",
   "execution_count": 43,
   "id": "5d917680",
   "metadata": {},
   "outputs": [],
   "source": [
    "final_data=final_data.withColumn(\"Churn_int\", col(\"Churn\").cast(\"int\"))\n",
    "# df = df.withColumn(\"boolean_column_int\", col(\"boolean_column\").cast(\"int\"))"
   ]
  },
  {
   "cell_type": "code",
   "execution_count": 44,
   "id": "f9e4bb95",
   "metadata": {},
   "outputs": [],
   "source": [
    "from pyspark.ml.regression import LinearRegression\n",
    "\n",
    "train_data, test_data = final_data.randomSplit([0.75, 0.25])\n",
    "regressor=LinearRegression(featuresCol=\"Input\", labelCol=\"Churn_int\")\n",
    "regressor=regressor.fit(train_data)"
   ]
  },
  {
   "cell_type": "code",
   "execution_count": 45,
   "id": "401cc966",
   "metadata": {},
   "outputs": [
    {
     "data": {
      "text/plain": [
       "DenseVector([0.0002, 0.0001, -0.002, -0.218, 0.0004, 1.2897, 0.0747, -0.0002, -0.8729, -0.0997, 0.0002, 2.2217, 0.2251, -0.0106, -0.7843, 0.0535])"
      ]
     },
     "execution_count": 45,
     "metadata": {},
     "output_type": "execute_result"
    }
   ],
   "source": [
    "regressor.coefficients"
   ]
  },
  {
   "cell_type": "code",
   "execution_count": 46,
   "id": "49ee51c7",
   "metadata": {},
   "outputs": [
    {
     "name": "stdout",
     "output_type": "stream",
     "text": [
      "+--------------------+-----+---------+--------------------+\n",
      "|               Input|Churn|Churn_int|          prediction|\n",
      "+--------------------+-----+---------+--------------------+\n",
      "|[1.0,415.0,0.0,19...|false|        0| 0.17892560941437446|\n",
      "|[1.0,415.0,26.0,1...|false|        0|0.008844205602314748|\n",
      "|[7.0,415.0,0.0,20...|false|        0|  0.2772575897952739|\n",
      "|[11.0,408.0,24.0,...|false|        0| 0.11043630323605053|\n",
      "|[13.0,408.0,0.0,2...|false|        0| 0.26014738542659815|\n",
      "+--------------------+-----+---------+--------------------+\n",
      "only showing top 5 rows\n",
      "\n"
     ]
    }
   ],
   "source": [
    "preds = regressor.evaluate(test_data)\n",
    "preds.predictions.show(5)"
   ]
  },
  {
   "cell_type": "code",
   "execution_count": 47,
   "id": "21fe6784",
   "metadata": {},
   "outputs": [
    {
     "data": {
      "text/plain": [
       "0.2298348514553787"
      ]
     },
     "execution_count": 47,
     "metadata": {},
     "output_type": "execute_result"
    }
   ],
   "source": [
    "preds.meanAbsoluteError"
   ]
  }
 ],
 "metadata": {
  "kernelspec": {
   "display_name": "Python 3",
   "language": "python",
   "name": "python3"
  },
  "language_info": {
   "codemirror_mode": {
    "name": "ipython",
    "version": 3
   },
   "file_extension": ".py",
   "mimetype": "text/x-python",
   "name": "python",
   "nbconvert_exporter": "python",
   "pygments_lexer": "ipython3",
   "version": "3.8.8"
  }
 },
 "nbformat": 4,
 "nbformat_minor": 5
}
